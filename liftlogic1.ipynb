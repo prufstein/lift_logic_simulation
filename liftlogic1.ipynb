{
 "cells": [
  {
   "cell_type": "code",
   "execution_count": 4,
   "metadata": {},
   "outputs": [],
   "source": [
    "import numpy as np\n",
    "import seaborn as sns\n",
    "import simpy\n",
    "import random\n",
    "import statistics\n"
   ]
  },
  {
   "cell_type": "code",
   "execution_count": 18,
   "metadata": {},
   "outputs": [],
   "source": [
    "wait_times = []\n",
    "total_floors = 8\n",
    "lobby_floor = 0\n"
   ]
  },
  {
   "cell_type": "code",
   "execution_count": 34,
   "metadata": {},
   "outputs": [],
   "source": [
    "class Hotel(object):\n",
    "    def __init__(self, env, num_lifts):\n",
    "        self.env = env\n",
    "        self.lift = simpy.Resource(env, num_lifts)\n",
    "    def go_to_room(self, guest, guest_floor, room_floor):\n",
    "        yield self.env.timeout((guest_floor-room_floor) ** 2/total_floors)\n",
    "    def go_to_lobby(self, guest, guest_floor):\n",
    "        yield self.env.timeout((guest_floor ** 2) / total_floors)\n",
    "        "
   ]
  },
  {
   "cell_type": "code",
   "execution_count": 35,
   "metadata": {},
   "outputs": [],
   "source": [
    "def call_lift(env, guest, Hotel):\n",
    "    # guest calls a lift\n",
    "    arrival_time = env.now\n",
    "    room_floor = random.randint(1, total_floors)\n",
    "    guest_floor = random.choice([room_floor, lobby_floor])\n",
    "    \n",
    "    if guest_floor == room_floor:\n",
    "        with Hotel.lift.request() as request:\n",
    "            yield request\n",
    "            yield env.process(Hotel.go_to_lobby(guest, room_floor))\n",
    "            wait_times.append(env.now - arrival_time)\n",
    "    \n",
    "    else: \n",
    "        with Hotel.lift.request() as request:\n",
    "            yield request\n",
    "            yield env.process(Hotel.go_to_room(guest, guest_floor, room_floor))\n",
    "            wait_times.append(env.now - arrival_time)\n",
    "            "
   ]
  },
  {
   "cell_type": "code",
   "execution_count": 36,
   "metadata": {},
   "outputs": [],
   "source": [
    "def run_hotel(env, num_lifts):\n",
    "    hotel = Hotel(env, num_lifts)\n",
    "\n",
    "    for guest in range(3):\n",
    "        env.process(call_lift(env, guest, hotel))\n",
    "\n",
    "    while True:\n",
    "        yield env.timeout(0.20)  # Wait a bit before generating a new person\n",
    "\n",
    "        guest += 1\n",
    "        env.process(call_lift(env, guest, hotel))\n"
   ]
  },
  {
   "cell_type": "code",
   "execution_count": 46,
   "metadata": {},
   "outputs": [
    {
     "name": "stdout",
     "output_type": "stream",
     "text": [
      "Average wait time: 5.09 units\n"
     ]
    },
    {
     "data": {
      "image/png": "[encoded data removed]",
      "text/plain": [
       "<Figure size 640x480 with 1 Axes>"
      ]
     },
     "metadata": {},
     "output_type": "display_data"
    }
   ],
   "source": [
    "#run_hotel(simpy.Environment(), num_lifts=2)\n",
    "env = simpy.Environment()\n",
    "env.process(run_hotel(env, num_lifts=2))\n",
    "env.run(until=10)\n",
    "# Calculate average wait time\n",
    "average_wait_time = statistics.mean(wait_times)\n",
    "# Print the average wait time\n",
    "print(f\"Average wait time: {average_wait_time:.2f} units\")\n",
    "# Plot the wait times\n",
    "sns.histplot(wait_times, bins=20)\n",
    "import matplotlib.pyplot as plt\n",
    "plt.xlabel('Wait Time (units)')\n",
    "plt.ylabel('Number of Guests')\n",
    "plt.title('Wait Time Distribution')\n",
    "plt.show()\n"
   ]
  }
 ],
 "metadata": {
  "kernelspec": {
   "display_name": "Python (liftvenv)",
   "language": "python",
   "name": "liftvenv"
  },
  "language_info": {
   "codemirror_mode": {
    "name": "ipython",
    "version": 3
   },
   "file_extension": ".py",
   "mimetype": "text/x-python",
   "name": "python",
   "nbconvert_exporter": "python",
   "pygments_lexer": "ipython3",
   "version": "3.12.3"
  }
 },
 "nbformat": 4,
 "nbformat_minor": 2
}
